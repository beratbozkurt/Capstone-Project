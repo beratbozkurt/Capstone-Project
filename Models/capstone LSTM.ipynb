{
 "cells": [
  {
   "cell_type": "code",
   "execution_count": 1,
   "id": "c1f013e0",
   "metadata": {},
   "outputs": [],
   "source": [
    "import pickle\n",
    "import pandas as pd\n",
    "import gzip\n",
    "import nltk\n",
    "from wordcloud import WordCloud\n",
    "import matplotlib.pyplot as plt"
   ]
  },
  {
   "cell_type": "code",
   "execution_count": 2,
   "id": "fb598b87",
   "metadata": {},
   "outputs": [],
   "source": [
    "def LoadTokensDF_Pickle(fileName):\n",
    "    df = pd.read_pickle(fileName, compression='gzip')\n",
    "    return df\n",
    "\n",
    "#lemmatized column to string column\n",
    "def lemmatized_strs(dataframe):\n",
    "    length = len(dataframe[\"lemmatized_tokens\"])\n",
    "    strs=[]\n",
    "    for i in range(length):    \n",
    "        words = dataframe[\"lemmatized_tokens\"].iloc[i]\n",
    "        sentence = \" \".join(words)\n",
    "        strs.append(sentence)\n",
    "    dataframe[\"lemmatized_tokens_str\"] = pd.Series(strs)\n",
    "    return dataframe"
   ]
  },
  {
   "cell_type": "code",
   "execution_count": 3,
   "id": "01666939",
   "metadata": {},
   "outputs": [],
   "source": [
    "ThyroidCancer_DF = LoadTokensDF_Pickle(\"ThyroidCancer_DF_Tokens_Cleaned_Lemmatized_merged_fixed_gzip_pkl\")\n",
    "Leukemia_DF = LoadTokensDF_Pickle(\"Leukemia_DF_Tokens_Cleaned_Lemmatized_merged_fixed_gzip_pkl\")\n",
    "NonHodgkinLymphoma_DF = LoadTokensDF_Pickle(\"NonHodgkinLymphoma_DF_Tokens_Cleaned_Lemmatized_merged_fixed_gzip_pkl\")\n",
    "BladderCancer_DF = LoadTokensDF_Pickle(\"BladderCancer_DF_Tokens_Cleaned_Lemmatized_merged_fixed_gzip_pkl\")"
   ]
  },
  {
   "cell_type": "code",
   "execution_count": 4,
   "id": "1f2cc1c3",
   "metadata": {},
   "outputs": [
    {
     "data": {
      "text/html": [
       "<div>\n",
       "<style scoped>\n",
       "    .dataframe tbody tr th:only-of-type {\n",
       "        vertical-align: middle;\n",
       "    }\n",
       "\n",
       "    .dataframe tbody tr th {\n",
       "        vertical-align: top;\n",
       "    }\n",
       "\n",
       "    .dataframe thead th {\n",
       "        text-align: right;\n",
       "    }\n",
       "</style>\n",
       "<table border=\"1\" class=\"dataframe\">\n",
       "  <thead>\n",
       "    <tr style=\"text-align: right;\">\n",
       "      <th></th>\n",
       "      <th>index</th>\n",
       "      <th>pubmedId</th>\n",
       "      <th>title</th>\n",
       "      <th>abstract</th>\n",
       "      <th>class</th>\n",
       "      <th>tokens</th>\n",
       "      <th>lemmatized_tokens</th>\n",
       "    </tr>\n",
       "  </thead>\n",
       "  <tbody>\n",
       "    <tr>\n",
       "      <th>0</th>\n",
       "      <td>1</td>\n",
       "      <td>35751867</td>\n",
       "      <td>Fumarate hydratase is a novel gene for familia...</td>\n",
       "      <td>the majority of cases of epithelial cell-deriv...</td>\n",
       "      <td>ThyroidCancer</td>\n",
       "      <td>[the, majority, of, cases, of, epithelial, cel...</td>\n",
       "      <td>[majority, case, epithelial, cell-derived, thy...</td>\n",
       "    </tr>\n",
       "    <tr>\n",
       "      <th>1</th>\n",
       "      <td>2</td>\n",
       "      <td>35751777</td>\n",
       "      <td>Levothyroxine-induced serum free thyroxine res...</td>\n",
       "      <td>Patients undergoing thyroidectomy for differen...</td>\n",
       "      <td>ThyroidCancer</td>\n",
       "      <td>[patients, undergoing, thyroidectomy, for, dif...</td>\n",
       "      <td>[patient, undergo, thyroidectomy, differentiat...</td>\n",
       "    </tr>\n",
       "    <tr>\n",
       "      <th>2</th>\n",
       "      <td>3</td>\n",
       "      <td>35748311</td>\n",
       "      <td>Persistent post-thyroidectomy hypoparathyroidi...</td>\n",
       "      <td>The reported incidence of persistent hypoparat...</td>\n",
       "      <td>ThyroidCancer</td>\n",
       "      <td>[the, reported, incidence, of, persistent, hyp...</td>\n",
       "      <td>[report, incidence, persistent, hypoparathyroi...</td>\n",
       "    </tr>\n",
       "    <tr>\n",
       "      <th>3</th>\n",
       "      <td>4</td>\n",
       "      <td>35748101</td>\n",
       "      <td>BRAF V600E protect from cell death via inhibit...</td>\n",
       "      <td>BRAF T1799A mutation is the most common geneti...</td>\n",
       "      <td>ThyroidCancer</td>\n",
       "      <td>[braf, t1799a, mutation, is, the, most, common...</td>\n",
       "      <td>[braf, t1799a, mutation, common, genetic, vari...</td>\n",
       "    </tr>\n",
       "    <tr>\n",
       "      <th>4</th>\n",
       "      <td>5</td>\n",
       "      <td>35747011</td>\n",
       "      <td>Genetic Panel Test of Double Cancer of Signet-...</td>\n",
       "      <td>Signet-ring cell/histiocytoid carcinoma (SRCHC...</td>\n",
       "      <td>ThyroidCancer</td>\n",
       "      <td>[signet-ring, cell/histiocytoid, carcinoma, (,...</td>\n",
       "      <td>[signet-ring, cell/histiocytoid, carcinoma, sr...</td>\n",
       "    </tr>\n",
       "    <tr>\n",
       "      <th>...</th>\n",
       "      <td>...</td>\n",
       "      <td>...</td>\n",
       "      <td>...</td>\n",
       "      <td>...</td>\n",
       "      <td>...</td>\n",
       "      <td>...</td>\n",
       "      <td>...</td>\n",
       "    </tr>\n",
       "    <tr>\n",
       "      <th>2774</th>\n",
       "      <td>2775</td>\n",
       "      <td>29493967</td>\n",
       "      <td>StatPearls</td>\n",
       "      <td>Gardner syndrome is a phenotypic variant of fa...</td>\n",
       "      <td>ThyroidCancer</td>\n",
       "      <td>[gardner, syndrome, is, a, phenotypic, variant...</td>\n",
       "      <td>[gardner, syndrome, phenotypic, variant, famil...</td>\n",
       "    </tr>\n",
       "    <tr>\n",
       "      <th>2775</th>\n",
       "      <td>2776</td>\n",
       "      <td>29489289</td>\n",
       "      <td>StatPearls</td>\n",
       "      <td>Selenium (Se) is a trace mineral that is essen...</td>\n",
       "      <td>ThyroidCancer</td>\n",
       "      <td>[selenium, (, se, ), is, a, trace, mineral, th...</td>\n",
       "      <td>[selenium, trace, mineral, essential, human, h...</td>\n",
       "    </tr>\n",
       "    <tr>\n",
       "      <th>2776</th>\n",
       "      <td>2777</td>\n",
       "      <td>29465928</td>\n",
       "      <td>Endotext</td>\n",
       "      <td>Multiple Endocrine Neoplasia (MEN) type 2 A an...</td>\n",
       "      <td>ThyroidCancer</td>\n",
       "      <td>[multiple, endocrine, neoplasia, (, men, ), ty...</td>\n",
       "      <td>[multiple, endocrine, neoplasia, men, type, ra...</td>\n",
       "    </tr>\n",
       "    <tr>\n",
       "      <th>2777</th>\n",
       "      <td>2778</td>\n",
       "      <td>29083765</td>\n",
       "      <td>StatPearls</td>\n",
       "      <td>Medullary thyroid cancer is a tumor arising fr...</td>\n",
       "      <td>ThyroidCancer</td>\n",
       "      <td>[medullary, thyroid, cancer, is, a, tumor, ari...</td>\n",
       "      <td>[medullary, thyroid, cancer, tumor, arising, p...</td>\n",
       "    </tr>\n",
       "    <tr>\n",
       "      <th>2778</th>\n",
       "      <td>2779</td>\n",
       "      <td>29083690</td>\n",
       "      <td>StatPearls</td>\n",
       "      <td>Thyroid cancer is a malignancy of the thyroid ...</td>\n",
       "      <td>ThyroidCancer</td>\n",
       "      <td>[thyroid, cancer, is, a, malignancy, of, the, ...</td>\n",
       "      <td>[thyroid, cancer, malignancy, thyroid, parench...</td>\n",
       "    </tr>\n",
       "  </tbody>\n",
       "</table>\n",
       "<p>49746 rows × 7 columns</p>\n",
       "</div>"
      ],
      "text/plain": [
       "      index  pubmedId                                              title  \\\n",
       "0         1  35751867  Fumarate hydratase is a novel gene for familia...   \n",
       "1         2  35751777  Levothyroxine-induced serum free thyroxine res...   \n",
       "2         3  35748311  Persistent post-thyroidectomy hypoparathyroidi...   \n",
       "3         4  35748101  BRAF V600E protect from cell death via inhibit...   \n",
       "4         5  35747011  Genetic Panel Test of Double Cancer of Signet-...   \n",
       "...     ...       ...                                                ...   \n",
       "2774   2775  29493967                                         StatPearls   \n",
       "2775   2776  29489289                                         StatPearls   \n",
       "2776   2777  29465928                                           Endotext   \n",
       "2777   2778  29083765                                         StatPearls   \n",
       "2778   2779  29083690                                         StatPearls   \n",
       "\n",
       "                                               abstract          class  \\\n",
       "0     the majority of cases of epithelial cell-deriv...  ThyroidCancer   \n",
       "1     Patients undergoing thyroidectomy for differen...  ThyroidCancer   \n",
       "2     The reported incidence of persistent hypoparat...  ThyroidCancer   \n",
       "3     BRAF T1799A mutation is the most common geneti...  ThyroidCancer   \n",
       "4     Signet-ring cell/histiocytoid carcinoma (SRCHC...  ThyroidCancer   \n",
       "...                                                 ...            ...   \n",
       "2774  Gardner syndrome is a phenotypic variant of fa...  ThyroidCancer   \n",
       "2775  Selenium (Se) is a trace mineral that is essen...  ThyroidCancer   \n",
       "2776  Multiple Endocrine Neoplasia (MEN) type 2 A an...  ThyroidCancer   \n",
       "2777  Medullary thyroid cancer is a tumor arising fr...  ThyroidCancer   \n",
       "2778  Thyroid cancer is a malignancy of the thyroid ...  ThyroidCancer   \n",
       "\n",
       "                                                 tokens  \\\n",
       "0     [the, majority, of, cases, of, epithelial, cel...   \n",
       "1     [patients, undergoing, thyroidectomy, for, dif...   \n",
       "2     [the, reported, incidence, of, persistent, hyp...   \n",
       "3     [braf, t1799a, mutation, is, the, most, common...   \n",
       "4     [signet-ring, cell/histiocytoid, carcinoma, (,...   \n",
       "...                                                 ...   \n",
       "2774  [gardner, syndrome, is, a, phenotypic, variant...   \n",
       "2775  [selenium, (, se, ), is, a, trace, mineral, th...   \n",
       "2776  [multiple, endocrine, neoplasia, (, men, ), ty...   \n",
       "2777  [medullary, thyroid, cancer, is, a, tumor, ari...   \n",
       "2778  [thyroid, cancer, is, a, malignancy, of, the, ...   \n",
       "\n",
       "                                      lemmatized_tokens  \n",
       "0     [majority, case, epithelial, cell-derived, thy...  \n",
       "1     [patient, undergo, thyroidectomy, differentiat...  \n",
       "2     [report, incidence, persistent, hypoparathyroi...  \n",
       "3     [braf, t1799a, mutation, common, genetic, vari...  \n",
       "4     [signet-ring, cell/histiocytoid, carcinoma, sr...  \n",
       "...                                                 ...  \n",
       "2774  [gardner, syndrome, phenotypic, variant, famil...  \n",
       "2775  [selenium, trace, mineral, essential, human, h...  \n",
       "2776  [multiple, endocrine, neoplasia, men, type, ra...  \n",
       "2777  [medullary, thyroid, cancer, tumor, arising, p...  \n",
       "2778  [thyroid, cancer, malignancy, thyroid, parench...  \n",
       "\n",
       "[49746 rows x 7 columns]"
      ]
     },
     "execution_count": 4,
     "metadata": {},
     "output_type": "execute_result"
    }
   ],
   "source": [
    "ThyroidCancer_DF"
   ]
  },
  {
   "cell_type": "code",
   "execution_count": 5,
   "id": "9ec252b6",
   "metadata": {},
   "outputs": [],
   "source": [
    "ThyroidCancer_DF = lemmatized_strs(ThyroidCancer_DF) \n",
    "Leukemia_DF = lemmatized_strs(Leukemia_DF)\n",
    "NonHodgkinLymphoma_DF = lemmatized_strs(NonHodgkinLymphoma_DF)\n",
    "BladderCancer_DF = lemmatized_strs(BladderCancer_DF)"
   ]
  },
  {
   "cell_type": "code",
   "execution_count": 6,
   "id": "54184eda",
   "metadata": {
    "scrolled": true
   },
   "outputs": [
    {
     "data": {
      "text/html": [
       "<div>\n",
       "<style scoped>\n",
       "    .dataframe tbody tr th:only-of-type {\n",
       "        vertical-align: middle;\n",
       "    }\n",
       "\n",
       "    .dataframe tbody tr th {\n",
       "        vertical-align: top;\n",
       "    }\n",
       "\n",
       "    .dataframe thead th {\n",
       "        text-align: right;\n",
       "    }\n",
       "</style>\n",
       "<table border=\"1\" class=\"dataframe\">\n",
       "  <thead>\n",
       "    <tr style=\"text-align: right;\">\n",
       "      <th></th>\n",
       "      <th>index</th>\n",
       "      <th>pubmedId</th>\n",
       "      <th>title</th>\n",
       "      <th>abstract</th>\n",
       "      <th>class</th>\n",
       "      <th>tokens</th>\n",
       "      <th>lemmatized_tokens</th>\n",
       "      <th>lemmatized_tokens_str</th>\n",
       "    </tr>\n",
       "  </thead>\n",
       "  <tbody>\n",
       "    <tr>\n",
       "      <th>0</th>\n",
       "      <td>1</td>\n",
       "      <td>35751867</td>\n",
       "      <td>Fumarate hydratase is a novel gene for familia...</td>\n",
       "      <td>the majority of cases of epithelial cell-deriv...</td>\n",
       "      <td>ThyroidCancer</td>\n",
       "      <td>[the, majority, of, cases, of, epithelial, cel...</td>\n",
       "      <td>[majority, case, epithelial, cell-derived, thy...</td>\n",
       "      <td>majority case epithelial cell-derived thyroid ...</td>\n",
       "    </tr>\n",
       "    <tr>\n",
       "      <th>1</th>\n",
       "      <td>2</td>\n",
       "      <td>35751777</td>\n",
       "      <td>Levothyroxine-induced serum free thyroxine res...</td>\n",
       "      <td>Patients undergoing thyroidectomy for differen...</td>\n",
       "      <td>ThyroidCancer</td>\n",
       "      <td>[patients, undergoing, thyroidectomy, for, dif...</td>\n",
       "      <td>[patient, undergo, thyroidectomy, differentiat...</td>\n",
       "      <td>patient undergo thyroidectomy differentiate th...</td>\n",
       "    </tr>\n",
       "    <tr>\n",
       "      <th>2</th>\n",
       "      <td>3</td>\n",
       "      <td>35748311</td>\n",
       "      <td>Persistent post-thyroidectomy hypoparathyroidi...</td>\n",
       "      <td>The reported incidence of persistent hypoparat...</td>\n",
       "      <td>ThyroidCancer</td>\n",
       "      <td>[the, reported, incidence, of, persistent, hyp...</td>\n",
       "      <td>[report, incidence, persistent, hypoparathyroi...</td>\n",
       "      <td>report incidence persistent hypoparathyroidism...</td>\n",
       "    </tr>\n",
       "    <tr>\n",
       "      <th>3</th>\n",
       "      <td>4</td>\n",
       "      <td>35748101</td>\n",
       "      <td>BRAF V600E protect from cell death via inhibit...</td>\n",
       "      <td>BRAF T1799A mutation is the most common geneti...</td>\n",
       "      <td>ThyroidCancer</td>\n",
       "      <td>[braf, t1799a, mutation, is, the, most, common...</td>\n",
       "      <td>[braf, t1799a, mutation, common, genetic, vari...</td>\n",
       "      <td>braf t1799a mutation common genetic variation ...</td>\n",
       "    </tr>\n",
       "    <tr>\n",
       "      <th>4</th>\n",
       "      <td>5</td>\n",
       "      <td>35747011</td>\n",
       "      <td>Genetic Panel Test of Double Cancer of Signet-...</td>\n",
       "      <td>Signet-ring cell/histiocytoid carcinoma (SRCHC...</td>\n",
       "      <td>ThyroidCancer</td>\n",
       "      <td>[signet-ring, cell/histiocytoid, carcinoma, (,...</td>\n",
       "      <td>[signet-ring, cell/histiocytoid, carcinoma, sr...</td>\n",
       "      <td>signet-ring cell/histiocytoid carcinoma srchc ...</td>\n",
       "    </tr>\n",
       "    <tr>\n",
       "      <th>...</th>\n",
       "      <td>...</td>\n",
       "      <td>...</td>\n",
       "      <td>...</td>\n",
       "      <td>...</td>\n",
       "      <td>...</td>\n",
       "      <td>...</td>\n",
       "      <td>...</td>\n",
       "      <td>...</td>\n",
       "    </tr>\n",
       "    <tr>\n",
       "      <th>2558</th>\n",
       "      <td>2559</td>\n",
       "      <td>32119321</td>\n",
       "      <td>StatPearls</td>\n",
       "      <td>Schistosomiasis is a parasitic disease histori...</td>\n",
       "      <td>BladderCancer</td>\n",
       "      <td>[schistosomiasis, is, a, parasitic, disease, h...</td>\n",
       "      <td>[schistosomiasis, parasitic, disease, historic...</td>\n",
       "      <td>schistosomiasis parasitic disease historically...</td>\n",
       "    </tr>\n",
       "    <tr>\n",
       "      <th>2559</th>\n",
       "      <td>2560</td>\n",
       "      <td>30725608</td>\n",
       "      <td>StatPearls</td>\n",
       "      <td>Bladder carcinoma (BC) is the most common neop...</td>\n",
       "      <td>BladderCancer</td>\n",
       "      <td>[bladder, carcinoma, (, bc, ), is, the, most, ...</td>\n",
       "      <td>[bladder, carcinoma, common, neoplasm, urinary...</td>\n",
       "      <td>bladder carcinoma common neoplasm urinary syst...</td>\n",
       "    </tr>\n",
       "    <tr>\n",
       "      <th>2560</th>\n",
       "      <td>2561</td>\n",
       "      <td>30285380</td>\n",
       "      <td>StatPearls</td>\n",
       "      <td>Mesotheliomas represent a proliferative neopla...</td>\n",
       "      <td>BladderCancer</td>\n",
       "      <td>[mesotheliomas, represent, a, proliferative, n...</td>\n",
       "      <td>[mesothelioma, represent, proliferative, neopl...</td>\n",
       "      <td>mesothelioma represent proliferative neoplasm ...</td>\n",
       "    </tr>\n",
       "    <tr>\n",
       "      <th>2561</th>\n",
       "      <td>2562</td>\n",
       "      <td>29939563</td>\n",
       "      <td>StatPearls</td>\n",
       "      <td>Lambl excrescences, a histological term descri...</td>\n",
       "      <td>BladderCancer</td>\n",
       "      <td>[lambl, excrescences, ,, a, histological, term...</td>\n",
       "      <td>[lambl, excrescence, histological, term, descr...</td>\n",
       "      <td>lambl excrescence histological term describe r...</td>\n",
       "    </tr>\n",
       "    <tr>\n",
       "      <th>2562</th>\n",
       "      <td>2563</td>\n",
       "      <td>29494060</td>\n",
       "      <td>StatPearls</td>\n",
       "      <td>Every urologist seems to have his own unique a...</td>\n",
       "      <td>BladderCancer</td>\n",
       "      <td>[every, urologist, seems, to, have, his, own, ...</td>\n",
       "      <td>[every, urologist, seems, unique, personal, pr...</td>\n",
       "      <td>every urologist seem unique personal procedure...</td>\n",
       "    </tr>\n",
       "  </tbody>\n",
       "</table>\n",
       "<p>383914 rows × 8 columns</p>\n",
       "</div>"
      ],
      "text/plain": [
       "      index  pubmedId                                              title  \\\n",
       "0         1  35751867  Fumarate hydratase is a novel gene for familia...   \n",
       "1         2  35751777  Levothyroxine-induced serum free thyroxine res...   \n",
       "2         3  35748311  Persistent post-thyroidectomy hypoparathyroidi...   \n",
       "3         4  35748101  BRAF V600E protect from cell death via inhibit...   \n",
       "4         5  35747011  Genetic Panel Test of Double Cancer of Signet-...   \n",
       "...     ...       ...                                                ...   \n",
       "2558   2559  32119321                                         StatPearls   \n",
       "2559   2560  30725608                                         StatPearls   \n",
       "2560   2561  30285380                                         StatPearls   \n",
       "2561   2562  29939563                                         StatPearls   \n",
       "2562   2563  29494060                                         StatPearls   \n",
       "\n",
       "                                               abstract          class  \\\n",
       "0     the majority of cases of epithelial cell-deriv...  ThyroidCancer   \n",
       "1     Patients undergoing thyroidectomy for differen...  ThyroidCancer   \n",
       "2     The reported incidence of persistent hypoparat...  ThyroidCancer   \n",
       "3     BRAF T1799A mutation is the most common geneti...  ThyroidCancer   \n",
       "4     Signet-ring cell/histiocytoid carcinoma (SRCHC...  ThyroidCancer   \n",
       "...                                                 ...            ...   \n",
       "2558  Schistosomiasis is a parasitic disease histori...  BladderCancer   \n",
       "2559  Bladder carcinoma (BC) is the most common neop...  BladderCancer   \n",
       "2560  Mesotheliomas represent a proliferative neopla...  BladderCancer   \n",
       "2561  Lambl excrescences, a histological term descri...  BladderCancer   \n",
       "2562  Every urologist seems to have his own unique a...  BladderCancer   \n",
       "\n",
       "                                                 tokens  \\\n",
       "0     [the, majority, of, cases, of, epithelial, cel...   \n",
       "1     [patients, undergoing, thyroidectomy, for, dif...   \n",
       "2     [the, reported, incidence, of, persistent, hyp...   \n",
       "3     [braf, t1799a, mutation, is, the, most, common...   \n",
       "4     [signet-ring, cell/histiocytoid, carcinoma, (,...   \n",
       "...                                                 ...   \n",
       "2558  [schistosomiasis, is, a, parasitic, disease, h...   \n",
       "2559  [bladder, carcinoma, (, bc, ), is, the, most, ...   \n",
       "2560  [mesotheliomas, represent, a, proliferative, n...   \n",
       "2561  [lambl, excrescences, ,, a, histological, term...   \n",
       "2562  [every, urologist, seems, to, have, his, own, ...   \n",
       "\n",
       "                                      lemmatized_tokens  \\\n",
       "0     [majority, case, epithelial, cell-derived, thy...   \n",
       "1     [patient, undergo, thyroidectomy, differentiat...   \n",
       "2     [report, incidence, persistent, hypoparathyroi...   \n",
       "3     [braf, t1799a, mutation, common, genetic, vari...   \n",
       "4     [signet-ring, cell/histiocytoid, carcinoma, sr...   \n",
       "...                                                 ...   \n",
       "2558  [schistosomiasis, parasitic, disease, historic...   \n",
       "2559  [bladder, carcinoma, common, neoplasm, urinary...   \n",
       "2560  [mesothelioma, represent, proliferative, neopl...   \n",
       "2561  [lambl, excrescence, histological, term, descr...   \n",
       "2562  [every, urologist, seems, unique, personal, pr...   \n",
       "\n",
       "                                  lemmatized_tokens_str  \n",
       "0     majority case epithelial cell-derived thyroid ...  \n",
       "1     patient undergo thyroidectomy differentiate th...  \n",
       "2     report incidence persistent hypoparathyroidism...  \n",
       "3     braf t1799a mutation common genetic variation ...  \n",
       "4     signet-ring cell/histiocytoid carcinoma srchc ...  \n",
       "...                                                 ...  \n",
       "2558  schistosomiasis parasitic disease historically...  \n",
       "2559  bladder carcinoma common neoplasm urinary syst...  \n",
       "2560  mesothelioma represent proliferative neoplasm ...  \n",
       "2561  lambl excrescence histological term describe r...  \n",
       "2562  every urologist seem unique personal procedure...  \n",
       "\n",
       "[383914 rows x 8 columns]"
      ]
     },
     "execution_count": 6,
     "metadata": {},
     "output_type": "execute_result"
    }
   ],
   "source": [
    "All_DFs = pd.concat([ThyroidCancer_DF, Leukemia_DF, NonHodgkinLymphoma_DF, BladderCancer_DF], axis=0)\n",
    "All_DFs"
   ]
  },
  {
   "cell_type": "code",
   "execution_count": 7,
   "id": "e8276584",
   "metadata": {},
   "outputs": [],
   "source": [
    "from sklearn.feature_extraction.text import TfidfVectorizer\n",
    "from sklearn.preprocessing import LabelEncoder\n",
    "from sklearn.model_selection import train_test_split\n",
    "from sklearn import model_selection\n",
    "from sklearn import linear_model\n",
    "from sklearn import metrics\n",
    "\n",
    "\n",
    "X = All_DFs[\"lemmatized_tokens_str\"]\n",
    "y = All_DFs[\"class\"]\n",
    "\n",
    "word_count = All_DFs[\"lemmatized_tokens_str\"].apply(lambda x: len(str(x).split()))\n",
    "\n",
    "X_train, X_test, y_train, y_test = train_test_split(X, y,stratify=y ,test_size= 0.2, random_state = 0)\n",
    "X_train, X_val, y_train, y_val = train_test_split(X_train, y_train, stratify=y_train, test_size=0.125, random_state=0)\n",
    "\n",
    "le = LabelEncoder()\n",
    "y_train = le.fit_transform(y_train)\n",
    "y_test = le.fit_transform(y_test)\n",
    "y_val = le.fit_transform(y_val)"
   ]
  },
  {
   "cell_type": "code",
   "execution_count": 8,
   "id": "a637560d",
   "metadata": {},
   "outputs": [
    {
     "data": {
      "text/plain": [
       "96.91024552373707"
      ]
     },
     "execution_count": 8,
     "metadata": {},
     "output_type": "execute_result"
    }
   ],
   "source": [
    "train_articles = (sum(word_count< 200)/word_count.shape[0])*100\n",
    "train_articles"
   ]
  },
  {
   "cell_type": "code",
   "execution_count": 9,
   "id": "c9685df6",
   "metadata": {},
   "outputs": [],
   "source": [
    "from keras.preprocessing.text import Tokenizer\n",
    "\n",
    "top_words = 30000\n",
    "max_words = 200\n",
    "tokenizer = Tokenizer(num_words=top_words)\n",
    "tokenizer.fit_on_texts(X_train)"
   ]
  },
  {
   "cell_type": "code",
   "execution_count": 10,
   "id": "1fe00cf4",
   "metadata": {},
   "outputs": [
    {
     "name": "stdout",
     "output_type": "stream",
     "text": [
      "Vocab Size: 226893\n"
     ]
    }
   ],
   "source": [
    "vocab_size = len(tokenizer.index_word) + 1\n",
    "print('Vocab Size:', vocab_size)"
   ]
  },
  {
   "cell_type": "code",
   "execution_count": 11,
   "id": "7d754372",
   "metadata": {},
   "outputs": [],
   "source": [
    "from keras.utils import pad_sequences\n",
    "\n",
    "train_sequences = tokenizer.texts_to_sequences(X_train)\n",
    "test_sequences = tokenizer.texts_to_sequences(X_test)\n",
    "val_sequences = tokenizer.texts_to_sequences(X_val)\n",
    "\n",
    "train_padded = pad_sequences(train_sequences, padding=\"post\",maxlen=max_words)\n",
    "test_padded = pad_sequences(test_sequences, padding=\"post\",maxlen=max_words)\n",
    "val_padded = pad_sequences(val_sequences, padding=\"post\",maxlen=max_words)"
   ]
  },
  {
   "cell_type": "code",
   "execution_count": 12,
   "id": "9b1b0cfa",
   "metadata": {},
   "outputs": [
    {
     "name": "stdout",
     "output_type": "stream",
     "text": [
      "Model: \"sequential\"\n",
      "_________________________________________________________________\n",
      " Layer (type)                Output Shape              Param #   \n",
      "=================================================================\n",
      " embedding (Embedding)       (None, 200, 100)          3000000   \n",
      "                                                                 \n",
      " spatial_dropout1d (SpatialD  (None, 200, 100)         0         \n",
      " ropout1D)                                                       \n",
      "                                                                 \n",
      " lstm (LSTM)                 (None, 100)               80400     \n",
      "                                                                 \n",
      " dense (Dense)               (None, 64)                6464      \n",
      "                                                                 \n",
      " dense_1 (Dense)             (None, 32)                2080      \n",
      "                                                                 \n",
      " dense_2 (Dense)             (None, 4)                 132       \n",
      "                                                                 \n",
      "=================================================================\n",
      "Total params: 3,089,076\n",
      "Trainable params: 3,089,076\n",
      "Non-trainable params: 0\n",
      "_________________________________________________________________\n"
     ]
    }
   ],
   "source": [
    "from keras.datasets import imdb\n",
    "from keras.models import Sequential\n",
    "from keras.layers import Dense\n",
    "from keras.layers import Flatten\n",
    "from keras.layers import Embedding\n",
    "from keras import layers\n",
    "from keras.layers import Dropout\n",
    "from keras.layers import LSTM, SpatialDropout1D\n",
    "from keras.callbacks import EarlyStopping\n",
    "from tensorflow.keras.layers import Embedding, LSTM, Dense, Dropout, GlobalMaxPooling1D, Bidirectional\n",
    "from keras.layers import GRU\n",
    "\n",
    "embedding_dim = 100 \n",
    "\n",
    "model = Sequential()\n",
    "model.add(Embedding(input_dim=top_words, output_dim=embedding_dim, input_length=max_words))\n",
    "model.add(SpatialDropout1D(0.2))\n",
    "model.add(LSTM(100, dropout=0.2))\n",
    "model.add(Dense(64))\n",
    "model.add(Dense(32))\n",
    "model.add(Dense(4,activation='softmax'))\n",
    "\n",
    "model.compile(optimizer='adam', loss='sparse_categorical_crossentropy', metrics=['accuracy'])\n",
    "model.summary()\n",
    "\n"
   ]
  },
  {
   "cell_type": "code",
   "execution_count": 13,
   "id": "66cbf0d7",
   "metadata": {},
   "outputs": [
    {
     "name": "stdout",
     "output_type": "stream",
     "text": [
      "Epoch 1/5\n",
      "2100/2100 - 1291s - loss: 0.7985 - accuracy: 0.6764 - val_loss: 0.3330 - val_accuracy: 0.8314 - 1291s/epoch - 615ms/step\n",
      "Epoch 2/5\n",
      "2100/2100 - 1318s - loss: 0.1682 - accuracy: 0.9260 - val_loss: 0.0848 - val_accuracy: 0.9737 - 1318s/epoch - 628ms/step\n",
      "Epoch 3/5\n",
      "2100/2100 - 1298s - loss: 0.0647 - accuracy: 0.9801 - val_loss: 0.0706 - val_accuracy: 0.9779 - 1298s/epoch - 618ms/step\n",
      "Epoch 4/5\n",
      "2100/2100 - 1217s - loss: 0.0503 - accuracy: 0.9842 - val_loss: 0.0750 - val_accuracy: 0.9763 - 1217s/epoch - 580ms/step\n",
      "Epoch 5/5\n",
      "2100/2100 - 1173s - loss: 0.0387 - accuracy: 0.9881 - val_loss: 0.0816 - val_accuracy: 0.9759 - 1173s/epoch - 558ms/step\n",
      "Accuracy: 97.69%\n"
     ]
    }
   ],
   "source": [
    "model.fit(train_padded, y_train, validation_data=(val_padded, y_val), epochs=5, verbose=2, batch_size=128)\n",
    "# Getting score metrics from our model\n",
    "scores = model.evaluate(test_padded, y_test, verbose=0)\n",
    "# Displays the accuracy of correct sentiment prediction over test data\n",
    "print(\"Accuracy: %.2f%%\" % (scores[1]*100))"
   ]
  },
  {
   "cell_type": "code",
   "execution_count": 14,
   "id": "a1377e1d",
   "metadata": {},
   "outputs": [
    {
     "name": "stdout",
     "output_type": "stream",
     "text": [
      "2400/2400 [==============================] - 118s 48ms/step\n"
     ]
    }
   ],
   "source": [
    "import numpy as np\n",
    "predict_x=model.predict(test_padded) \n",
    "classes_x=np.argmax(predict_x,axis=1)"
   ]
  },
  {
   "cell_type": "code",
   "execution_count": 15,
   "id": "33c9dbd7",
   "metadata": {},
   "outputs": [
    {
     "name": "stdout",
     "output_type": "stream",
     "text": [
      "              precision    recall  f1-score   support\n",
      "\n",
      "           0       0.97      0.98      0.98      9235\n",
      "           1       0.98      0.98      0.98     45311\n",
      "           2       0.95      0.95      0.95     12288\n",
      "           3       0.99      0.98      0.98      9949\n",
      "\n",
      "    accuracy                           0.98     76783\n",
      "   macro avg       0.97      0.97      0.97     76783\n",
      "weighted avg       0.98      0.98      0.98     76783\n",
      "\n"
     ]
    }
   ],
   "source": [
    "print(metrics.classification_report(y_test, classes_x))"
   ]
  },
  {
   "cell_type": "code",
   "execution_count": 16,
   "id": "c865d78b",
   "metadata": {},
   "outputs": [
    {
     "name": "stderr",
     "output_type": "stream",
     "text": [
      "WARNING:absl:Found untraced functions such as lstm_cell_layer_call_fn, lstm_cell_layer_call_and_return_conditional_losses while saving (showing 2 of 2). These functions will not be directly callable after loading.\n"
     ]
    },
    {
     "name": "stdout",
     "output_type": "stream",
     "text": [
      "INFO:tensorflow:Assets written to: LSTM_Model\\assets\n"
     ]
    },
    {
     "name": "stderr",
     "output_type": "stream",
     "text": [
      "INFO:tensorflow:Assets written to: LSTM_Model\\assets\n"
     ]
    }
   ],
   "source": [
    "model.save(\"LSTM_Model\")\n"
   ]
  },
  {
   "cell_type": "code",
   "execution_count": 17,
   "id": "04dee1d0",
   "metadata": {},
   "outputs": [],
   "source": [
    "pickle.dump(tokenizer, open(\"tokenizer.pickle\", \"wb\"))"
   ]
  },
  {
   "cell_type": "code",
   "execution_count": 20,
   "id": "b2dc9695",
   "metadata": {},
   "outputs": [
    {
     "data": {
      "text/plain": [
       "array(['BladderCancer', 'Leukemia', 'NonHodgkinLymphoma', 'ThyroidCancer'],\n",
       "      dtype=object)"
      ]
     },
     "execution_count": 20,
     "metadata": {},
     "output_type": "execute_result"
    }
   ],
   "source": [
    "le.classes_"
   ]
  },
  {
   "cell_type": "code",
   "execution_count": 21,
   "id": "807c6277",
   "metadata": {},
   "outputs": [
    {
     "name": "stdout",
     "output_type": "stream",
     "text": [
      "[[ 9064   115    33    23]\n",
      " [  168 44561   531    51]\n",
      " [   48   517 11687    36]\n",
      " [   74    98    76  9701]]\n"
     ]
    }
   ],
   "source": [
    "from sklearn.metrics import confusion_matrix\n",
    "print(confusion_matrix(y_test, classes_x))"
   ]
  },
  {
   "cell_type": "code",
   "execution_count": 28,
   "id": "aa05a6d5",
   "metadata": {},
   "outputs": [
    {
     "data": {
      "image/png": "[encoded data removed]",
      "text/plain": [
       "<Figure size 864x576 with 2 Axes>"
      ]
     },
     "metadata": {
      "needs_background": "light"
     },
     "output_type": "display_data"
    }
   ],
   "source": [
    "import seaborn as sns\n",
    "plt.figure(figsize=(12,8))\n",
    "fx=sns.heatmap(confusion_matrix(y_test,classes_x), annot=True, fmt=\".2f\",cmap=\"GnBu\")\n",
    "fx.set_title('Confusion Matrix \\n');\n",
    "fx.set_xlabel('\\n Predicted Values\\n')\n",
    "fx.set_ylabel('Actual Values\\n');\n",
    "fx.xaxis.set_ticklabels(['BladderCancer', 'Leukemia', 'NonHodgkinLymphoma', 'ThyroidCancer'])\n",
    "fx.yaxis.set_ticklabels(['BladderCancer', 'Leukemia', 'NonHodgkinLymphoma', 'ThyroidCancer'])\n",
    "plt.show()"
   ]
  },
  {
   "cell_type": "code",
   "execution_count": 29,
   "id": "ba85f406",
   "metadata": {},
   "outputs": [
    {
     "name": "stdout",
     "output_type": "stream",
     "text": [
      "AUC: 0.9981472893255569\n"
     ]
    }
   ],
   "source": [
    "from sklearn.metrics import roc_auc_score\n",
    "\n",
    "auc = roc_auc_score(y_test, predict_x, multi_class='ovr')\n",
    "print(\"AUC:\", auc)\n"
   ]
  },
  {
   "cell_type": "code",
   "execution_count": 31,
   "id": "d91f89af",
   "metadata": {},
   "outputs": [
    {
     "data": {
      "image/png": "[encoded data removed]",
      "text/plain": [
       "<Figure size 432x288 with 1 Axes>"
      ]
     },
     "metadata": {
      "needs_background": "light"
     },
     "output_type": "display_data"
    }
   ],
   "source": [
    "from sklearn.metrics import roc_curve\n",
    "import matplotlib.pyplot as plt\n",
    "\n",
    "y_pred_proba = predict_x\n",
    "\n",
    "# For each class\n",
    "for i in range(y_pred_proba.shape[1]):\n",
    "    # Get true labels and predicted probabilities for the current class\n",
    "    y_test_binary = (y_test == i).astype(int)\n",
    "    y_pred_proba_binary = y_pred_proba[:, i]\n",
    "\n",
    "    # Get false positive rate, true positive rate and thresholds\n",
    "    fpr, tpr, thresholds = roc_curve(y_test_binary, y_pred_proba_binary)\n",
    "\n",
    "    # Plot ROC curve\n",
    "    plt.plot(fpr, tpr, label=le.classes_[i])\n",
    "\n",
    "plt.xlim([0.0, 1.0])\n",
    "plt.ylim([0.0, 1.0])\n",
    "plt.title(\"ROC Curves for Multi-class Classification\")\n",
    "plt.xlabel(\"False Positive Rate (1 - Specificity)\")\n",
    "plt.ylabel(\"True Positive Rate (Sensitivity)\")\n",
    "plt.legend(loc=\"lower right\")\n",
    "plt.grid(True)\n",
    "plt.show()\n"
   ]
  },
  {
   "cell_type": "code",
   "execution_count": null,
   "id": "351f91e4",
   "metadata": {},
   "outputs": [],
   "source": []
  }
 ],
 "metadata": {
  "kernelspec": {
   "display_name": "Python 3 (ipykernel)",
   "language": "python",
   "name": "python3"
  },
  "language_info": {
   "codemirror_mode": {
    "name": "ipython",
    "version": 3
   },
   "file_extension": ".py",
   "mimetype": "text/x-python",
   "name": "python",
   "nbconvert_exporter": "python",
   "pygments_lexer": "ipython3",
   "version": "3.9.12"
  }
 },
 "nbformat": 4,
 "nbformat_minor": 5
}
