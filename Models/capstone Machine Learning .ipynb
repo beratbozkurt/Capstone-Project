{
 "cells": [
  {
   "cell_type": "code",
   "execution_count": 1,
   "id": "7594f287",
   "metadata": {},
   "outputs": [],
   "source": [
    "#import libraries\n",
    "\n",
    "import pickle\n",
    "import pandas as pd\n",
    "import gzip\n",
    "import nltk\n",
    "from wordcloud import WordCloud\n",
    "import matplotlib.pyplot as plt\n"
   ]
  },
  {
   "cell_type": "code",
   "execution_count": 2,
   "id": "80cfe932",
   "metadata": {},
   "outputs": [],
   "source": [
    "#functions\n",
    "\n",
    "#extract pickle data to dataframe\n",
    "def LoadTokensDF_Pickle(fileName):\n",
    "    df = pd.read_pickle(fileName, compression='gzip')\n",
    "    return df\n",
    "\n",
    "#lemmatized column to string column\n",
    "def lemmatized_strs(dataframe):\n",
    "    length = len(dataframe[\"lemmatized_tokens\"])\n",
    "    strs=[]\n",
    "    for i in range(length):    \n",
    "        words = dataframe[\"lemmatized_tokens\"].iloc[i]\n",
    "        sentence = \" \".join(words)\n",
    "        strs.append(sentence)\n",
    "    dataframe[\"lemmatized_tokens_str\"] = pd.Series(strs)\n",
    "    return dataframe"
   ]
  },
  {
   "cell_type": "code",
   "execution_count": 3,
   "id": "9d27d9cd",
   "metadata": {
    "execution": {
     "iopub.execute_input": "2022-10-12T10:25:28.266922Z",
     "iopub.status.busy": "2022-10-12T10:25:28.266520Z",
     "iopub.status.idle": "2022-10-12T10:26:14.090506Z",
     "shell.execute_reply": "2022-10-12T10:26:14.088501Z",
     "shell.execute_reply.started": "2022-10-12T10:25:28.266886Z"
    }
   },
   "outputs": [],
   "source": [
    "ThyroidCancer_DF = LoadTokensDF_Pickle(\"ThyroidCancer_DF_Tokens_Cleaned_Lemmatized_merged_fixed_gzip_pkl\")\n",
    "Leukemia_DF = LoadTokensDF_Pickle(\"Leukemia_DF_Tokens_Cleaned_Lemmatized_merged_fixed_gzip_pkl\")\n",
    "NonHodgkinLymphoma_DF = LoadTokensDF_Pickle(\"NonHodgkinLymphoma_DF_Tokens_Cleaned_Lemmatized_merged_fixed_gzip_pkl\")\n",
    "BladderCancer_DF = LoadTokensDF_Pickle(\"BladderCancer_DF_Tokens_Cleaned_Lemmatized_merged_fixed_gzip_pkl\")"
   ]
  },
  {
   "cell_type": "code",
   "execution_count": 4,
   "id": "09befbef",
   "metadata": {
    "execution": {
     "iopub.execute_input": "2022-10-12T10:26:14.093143Z",
     "iopub.status.busy": "2022-10-12T10:26:14.092734Z",
     "iopub.status.idle": "2022-10-12T10:26:14.165206Z",
     "shell.execute_reply": "2022-10-12T10:26:14.163783Z",
     "shell.execute_reply.started": "2022-10-12T10:26:14.093108Z"
    }
   },
   "outputs": [
    {
     "data": {
      "text/html": [
       "<div>\n",
       "<style scoped>\n",
       "    .dataframe tbody tr th:only-of-type {\n",
       "        vertical-align: middle;\n",
       "    }\n",
       "\n",
       "    .dataframe tbody tr th {\n",
       "        vertical-align: top;\n",
       "    }\n",
       "\n",
       "    .dataframe thead th {\n",
       "        text-align: right;\n",
       "    }\n",
       "</style>\n",
       "<table border=\"1\" class=\"dataframe\">\n",
       "  <thead>\n",
       "    <tr style=\"text-align: right;\">\n",
       "      <th></th>\n",
       "      <th>index</th>\n",
       "      <th>pubmedId</th>\n",
       "      <th>title</th>\n",
       "      <th>abstract</th>\n",
       "      <th>class</th>\n",
       "      <th>tokens</th>\n",
       "      <th>lemmatized_tokens</th>\n",
       "    </tr>\n",
       "  </thead>\n",
       "  <tbody>\n",
       "    <tr>\n",
       "      <th>0</th>\n",
       "      <td>1</td>\n",
       "      <td>35751867</td>\n",
       "      <td>Fumarate hydratase is a novel gene for familia...</td>\n",
       "      <td>the majority of cases of epithelial cell-deriv...</td>\n",
       "      <td>ThyroidCancer</td>\n",
       "      <td>[the, majority, of, cases, of, epithelial, cel...</td>\n",
       "      <td>[majority, case, epithelial, cell-derived, thy...</td>\n",
       "    </tr>\n",
       "    <tr>\n",
       "      <th>1</th>\n",
       "      <td>2</td>\n",
       "      <td>35751777</td>\n",
       "      <td>Levothyroxine-induced serum free thyroxine res...</td>\n",
       "      <td>Patients undergoing thyroidectomy for differen...</td>\n",
       "      <td>ThyroidCancer</td>\n",
       "      <td>[patients, undergoing, thyroidectomy, for, dif...</td>\n",
       "      <td>[patient, undergo, thyroidectomy, differentiat...</td>\n",
       "    </tr>\n",
       "    <tr>\n",
       "      <th>2</th>\n",
       "      <td>3</td>\n",
       "      <td>35748311</td>\n",
       "      <td>Persistent post-thyroidectomy hypoparathyroidi...</td>\n",
       "      <td>The reported incidence of persistent hypoparat...</td>\n",
       "      <td>ThyroidCancer</td>\n",
       "      <td>[the, reported, incidence, of, persistent, hyp...</td>\n",
       "      <td>[report, incidence, persistent, hypoparathyroi...</td>\n",
       "    </tr>\n",
       "    <tr>\n",
       "      <th>3</th>\n",
       "      <td>4</td>\n",
       "      <td>35748101</td>\n",
       "      <td>BRAF V600E protect from cell death via inhibit...</td>\n",
       "      <td>BRAF T1799A mutation is the most common geneti...</td>\n",
       "      <td>ThyroidCancer</td>\n",
       "      <td>[braf, t1799a, mutation, is, the, most, common...</td>\n",
       "      <td>[braf, t1799a, mutation, common, genetic, vari...</td>\n",
       "    </tr>\n",
       "    <tr>\n",
       "      <th>4</th>\n",
       "      <td>5</td>\n",
       "      <td>35747011</td>\n",
       "      <td>Genetic Panel Test of Double Cancer of Signet-...</td>\n",
       "      <td>Signet-ring cell/histiocytoid carcinoma (SRCHC...</td>\n",
       "      <td>ThyroidCancer</td>\n",
       "      <td>[signet-ring, cell/histiocytoid, carcinoma, (,...</td>\n",
       "      <td>[signet-ring, cell/histiocytoid, carcinoma, sr...</td>\n",
       "    </tr>\n",
       "    <tr>\n",
       "      <th>...</th>\n",
       "      <td>...</td>\n",
       "      <td>...</td>\n",
       "      <td>...</td>\n",
       "      <td>...</td>\n",
       "      <td>...</td>\n",
       "      <td>...</td>\n",
       "      <td>...</td>\n",
       "    </tr>\n",
       "    <tr>\n",
       "      <th>2774</th>\n",
       "      <td>2775</td>\n",
       "      <td>29493967</td>\n",
       "      <td>StatPearls</td>\n",
       "      <td>Gardner syndrome is a phenotypic variant of fa...</td>\n",
       "      <td>ThyroidCancer</td>\n",
       "      <td>[gardner, syndrome, is, a, phenotypic, variant...</td>\n",
       "      <td>[gardner, syndrome, phenotypic, variant, famil...</td>\n",
       "    </tr>\n",
       "    <tr>\n",
       "      <th>2775</th>\n",
       "      <td>2776</td>\n",
       "      <td>29489289</td>\n",
       "      <td>StatPearls</td>\n",
       "      <td>Selenium (Se) is a trace mineral that is essen...</td>\n",
       "      <td>ThyroidCancer</td>\n",
       "      <td>[selenium, (, se, ), is, a, trace, mineral, th...</td>\n",
       "      <td>[selenium, trace, mineral, essential, human, h...</td>\n",
       "    </tr>\n",
       "    <tr>\n",
       "      <th>2776</th>\n",
       "      <td>2777</td>\n",
       "      <td>29465928</td>\n",
       "      <td>Endotext</td>\n",
       "      <td>Multiple Endocrine Neoplasia (MEN) type 2 A an...</td>\n",
       "      <td>ThyroidCancer</td>\n",
       "      <td>[multiple, endocrine, neoplasia, (, men, ), ty...</td>\n",
       "      <td>[multiple, endocrine, neoplasia, men, type, ra...</td>\n",
       "    </tr>\n",
       "    <tr>\n",
       "      <th>2777</th>\n",
       "      <td>2778</td>\n",
       "      <td>29083765</td>\n",
       "      <td>StatPearls</td>\n",
       "      <td>Medullary thyroid cancer is a tumor arising fr...</td>\n",
       "      <td>ThyroidCancer</td>\n",
       "      <td>[medullary, thyroid, cancer, is, a, tumor, ari...</td>\n",
       "      <td>[medullary, thyroid, cancer, tumor, arising, p...</td>\n",
       "    </tr>\n",
       "    <tr>\n",
       "      <th>2778</th>\n",
       "      <td>2779</td>\n",
       "      <td>29083690</td>\n",
       "      <td>StatPearls</td>\n",
       "      <td>Thyroid cancer is a malignancy of the thyroid ...</td>\n",
       "      <td>ThyroidCancer</td>\n",
       "      <td>[thyroid, cancer, is, a, malignancy, of, the, ...</td>\n",
       "      <td>[thyroid, cancer, malignancy, thyroid, parench...</td>\n",
       "    </tr>\n",
       "  </tbody>\n",
       "</table>\n",
       "<p>49746 rows × 7 columns</p>\n",
       "</div>"
      ],
      "text/plain": [
       "      index  pubmedId                                              title  \\\n",
       "0         1  35751867  Fumarate hydratase is a novel gene for familia...   \n",
       "1         2  35751777  Levothyroxine-induced serum free thyroxine res...   \n",
       "2         3  35748311  Persistent post-thyroidectomy hypoparathyroidi...   \n",
       "3         4  35748101  BRAF V600E protect from cell death via inhibit...   \n",
       "4         5  35747011  Genetic Panel Test of Double Cancer of Signet-...   \n",
       "...     ...       ...                                                ...   \n",
       "2774   2775  29493967                                         StatPearls   \n",
       "2775   2776  29489289                                         StatPearls   \n",
       "2776   2777  29465928                                           Endotext   \n",
       "2777   2778  29083765                                         StatPearls   \n",
       "2778   2779  29083690                                         StatPearls   \n",
       "\n",
       "                                               abstract          class  \\\n",
       "0     the majority of cases of epithelial cell-deriv...  ThyroidCancer   \n",
       "1     Patients undergoing thyroidectomy for differen...  ThyroidCancer   \n",
       "2     The reported incidence of persistent hypoparat...  ThyroidCancer   \n",
       "3     BRAF T1799A mutation is the most common geneti...  ThyroidCancer   \n",
       "4     Signet-ring cell/histiocytoid carcinoma (SRCHC...  ThyroidCancer   \n",
       "...                                                 ...            ...   \n",
       "2774  Gardner syndrome is a phenotypic variant of fa...  ThyroidCancer   \n",
       "2775  Selenium (Se) is a trace mineral that is essen...  ThyroidCancer   \n",
       "2776  Multiple Endocrine Neoplasia (MEN) type 2 A an...  ThyroidCancer   \n",
       "2777  Medullary thyroid cancer is a tumor arising fr...  ThyroidCancer   \n",
       "2778  Thyroid cancer is a malignancy of the thyroid ...  ThyroidCancer   \n",
       "\n",
       "                                                 tokens  \\\n",
       "0     [the, majority, of, cases, of, epithelial, cel...   \n",
       "1     [patients, undergoing, thyroidectomy, for, dif...   \n",
       "2     [the, reported, incidence, of, persistent, hyp...   \n",
       "3     [braf, t1799a, mutation, is, the, most, common...   \n",
       "4     [signet-ring, cell/histiocytoid, carcinoma, (,...   \n",
       "...                                                 ...   \n",
       "2774  [gardner, syndrome, is, a, phenotypic, variant...   \n",
       "2775  [selenium, (, se, ), is, a, trace, mineral, th...   \n",
       "2776  [multiple, endocrine, neoplasia, (, men, ), ty...   \n",
       "2777  [medullary, thyroid, cancer, is, a, tumor, ari...   \n",
       "2778  [thyroid, cancer, is, a, malignancy, of, the, ...   \n",
       "\n",
       "                                      lemmatized_tokens  \n",
       "0     [majority, case, epithelial, cell-derived, thy...  \n",
       "1     [patient, undergo, thyroidectomy, differentiat...  \n",
       "2     [report, incidence, persistent, hypoparathyroi...  \n",
       "3     [braf, t1799a, mutation, common, genetic, vari...  \n",
       "4     [signet-ring, cell/histiocytoid, carcinoma, sr...  \n",
       "...                                                 ...  \n",
       "2774  [gardner, syndrome, phenotypic, variant, famil...  \n",
       "2775  [selenium, trace, mineral, essential, human, h...  \n",
       "2776  [multiple, endocrine, neoplasia, men, type, ra...  \n",
       "2777  [medullary, thyroid, cancer, tumor, arising, p...  \n",
       "2778  [thyroid, cancer, malignancy, thyroid, parench...  \n",
       "\n",
       "[49746 rows x 7 columns]"
      ]
     },
     "execution_count": 4,
     "metadata": {},
     "output_type": "execute_result"
    }
   ],
   "source": [
    "ThyroidCancer_DF\n"
   ]
  },
  {
   "cell_type": "code",
   "execution_count": 5,
   "id": "383b5ee5",
   "metadata": {
    "execution": {
     "iopub.execute_input": "2022-10-12T10:26:14.170242Z",
     "iopub.status.busy": "2022-10-12T10:26:14.169818Z",
     "iopub.status.idle": "2022-10-12T10:26:19.961072Z",
     "shell.execute_reply": "2022-10-12T10:26:19.959776Z",
     "shell.execute_reply.started": "2022-10-12T10:26:14.170204Z"
    }
   },
   "outputs": [],
   "source": [
    "ThyroidCancer_DF = lemmatized_strs(ThyroidCancer_DF) \n",
    "Leukemia_DF = lemmatized_strs(Leukemia_DF)\n",
    "NonHodgkinLymphoma_DF = lemmatized_strs(NonHodgkinLymphoma_DF)\n",
    "BladderCancer_DF = lemmatized_strs(BladderCancer_DF)\n"
   ]
  },
  {
   "cell_type": "code",
   "execution_count": 6,
   "id": "65140866",
   "metadata": {
    "execution": {
     "iopub.execute_input": "2022-10-12T10:26:19.963805Z",
     "iopub.status.busy": "2022-10-12T10:26:19.963393Z",
     "iopub.status.idle": "2022-10-12T10:26:21.021071Z",
     "shell.execute_reply": "2022-10-12T10:26:21.019176Z",
     "shell.execute_reply.started": "2022-10-12T10:26:19.963770Z"
    }
   },
   "outputs": [],
   "source": [
    "one_strings = [None] * 4\n",
    "one_strings[0] = ' '.join(ThyroidCancer_DF['lemmatized_tokens_str'].tolist())\n",
    "one_strings[1] = ' '.join(Leukemia_DF['lemmatized_tokens_str'].tolist())\n",
    "one_strings[2] = ' '.join(NonHodgkinLymphoma_DF['lemmatized_tokens_str'].tolist())\n",
    "one_strings[3] = ' '.join(BladderCancer_DF['lemmatized_tokens_str'].tolist())"
   ]
  },
  {
   "cell_type": "code",
   "execution_count": 7,
   "id": "eddab73c",
   "metadata": {},
   "outputs": [
    {
     "data": {
      "text/plain": [
       "'\\nimport numpy as np\\nimport seaborn as sns\\n\\nsns.set()\\nplt.rcParams[\\'figure.figsize\\'] = [20, 20]\\n\\nx, y = np.ogrid[:300, :300]\\nmask = (x - 150) ** 2 + (y - 150) ** 2 > 130 ** 2\\nmask = 255 * mask.astype(int)\\n\\nwordcloud = WordCloud(background_color=\"white\", mask=mask, contour_width=0.1, \\n                      contour_color=\"black\",  max_font_size=150, random_state=42,\\n                      colormap=\"Dark2\")\\n\\nfor i in range(4):\\n    wordcloud.generate(text=one_strings[i])   \\n    plt.subplot(4, 4, i+1)\\n    plt.imshow(wordcloud, interpolation=\"bilinear\")\\n    plt.axis(\"off\")\\nplt.show()\\n'"
      ]
     },
     "execution_count": 7,
     "metadata": {},
     "output_type": "execute_result"
    }
   ],
   "source": [
    "'''\n",
    "import numpy as np\n",
    "import seaborn as sns\n",
    "\n",
    "sns.set()\n",
    "plt.rcParams['figure.figsize'] = [20, 20]\n",
    "\n",
    "x, y = np.ogrid[:300, :300]\n",
    "mask = (x - 150) ** 2 + (y - 150) ** 2 > 130 ** 2\n",
    "mask = 255 * mask.astype(int)\n",
    "\n",
    "wordcloud = WordCloud(background_color=\"white\", mask=mask, contour_width=0.1, \n",
    "                      contour_color=\"black\",  max_font_size=150, random_state=42,\n",
    "                      colormap=\"Dark2\")\n",
    "\n",
    "for i in range(4):\n",
    "    wordcloud.generate(text=one_strings[i])   \n",
    "    plt.subplot(4, 4, i+1)\n",
    "    plt.imshow(wordcloud, interpolation=\"bilinear\")\n",
    "    plt.axis(\"off\")\n",
    "plt.show()\n",
    "'''"
   ]
  },
  {
   "cell_type": "code",
   "execution_count": 8,
   "id": "745311e4",
   "metadata": {},
   "outputs": [],
   "source": [
    "All_DFs = pd.concat([ThyroidCancer_DF, Leukemia_DF, NonHodgkinLymphoma_DF, BladderCancer_DF], axis=0)"
   ]
  },
  {
   "cell_type": "code",
   "execution_count": 9,
   "id": "0d50f69d",
   "metadata": {},
   "outputs": [
    {
     "data": {
      "text/html": [
       "<div>\n",
       "<style scoped>\n",
       "    .dataframe tbody tr th:only-of-type {\n",
       "        vertical-align: middle;\n",
       "    }\n",
       "\n",
       "    .dataframe tbody tr th {\n",
       "        vertical-align: top;\n",
       "    }\n",
       "\n",
       "    .dataframe thead th {\n",
       "        text-align: right;\n",
       "    }\n",
       "</style>\n",
       "<table border=\"1\" class=\"dataframe\">\n",
       "  <thead>\n",
       "    <tr style=\"text-align: right;\">\n",
       "      <th></th>\n",
       "      <th>index</th>\n",
       "      <th>pubmedId</th>\n",
       "      <th>title</th>\n",
       "      <th>abstract</th>\n",
       "      <th>class</th>\n",
       "      <th>tokens</th>\n",
       "      <th>lemmatized_tokens</th>\n",
       "      <th>lemmatized_tokens_str</th>\n",
       "    </tr>\n",
       "  </thead>\n",
       "  <tbody>\n",
       "    <tr>\n",
       "      <th>0</th>\n",
       "      <td>1</td>\n",
       "      <td>35751867</td>\n",
       "      <td>Fumarate hydratase is a novel gene for familia...</td>\n",
       "      <td>the majority of cases of epithelial cell-deriv...</td>\n",
       "      <td>ThyroidCancer</td>\n",
       "      <td>[the, majority, of, cases, of, epithelial, cel...</td>\n",
       "      <td>[majority, case, epithelial, cell-derived, thy...</td>\n",
       "      <td>majority case epithelial cell-derived thyroid ...</td>\n",
       "    </tr>\n",
       "    <tr>\n",
       "      <th>1</th>\n",
       "      <td>2</td>\n",
       "      <td>35751777</td>\n",
       "      <td>Levothyroxine-induced serum free thyroxine res...</td>\n",
       "      <td>Patients undergoing thyroidectomy for differen...</td>\n",
       "      <td>ThyroidCancer</td>\n",
       "      <td>[patients, undergoing, thyroidectomy, for, dif...</td>\n",
       "      <td>[patient, undergo, thyroidectomy, differentiat...</td>\n",
       "      <td>patient undergo thyroidectomy differentiate th...</td>\n",
       "    </tr>\n",
       "    <tr>\n",
       "      <th>2</th>\n",
       "      <td>3</td>\n",
       "      <td>35748311</td>\n",
       "      <td>Persistent post-thyroidectomy hypoparathyroidi...</td>\n",
       "      <td>The reported incidence of persistent hypoparat...</td>\n",
       "      <td>ThyroidCancer</td>\n",
       "      <td>[the, reported, incidence, of, persistent, hyp...</td>\n",
       "      <td>[report, incidence, persistent, hypoparathyroi...</td>\n",
       "      <td>report incidence persistent hypoparathyroidism...</td>\n",
       "    </tr>\n",
       "    <tr>\n",
       "      <th>3</th>\n",
       "      <td>4</td>\n",
       "      <td>35748101</td>\n",
       "      <td>BRAF V600E protect from cell death via inhibit...</td>\n",
       "      <td>BRAF T1799A mutation is the most common geneti...</td>\n",
       "      <td>ThyroidCancer</td>\n",
       "      <td>[braf, t1799a, mutation, is, the, most, common...</td>\n",
       "      <td>[braf, t1799a, mutation, common, genetic, vari...</td>\n",
       "      <td>braf t1799a mutation common genetic variation ...</td>\n",
       "    </tr>\n",
       "    <tr>\n",
       "      <th>4</th>\n",
       "      <td>5</td>\n",
       "      <td>35747011</td>\n",
       "      <td>Genetic Panel Test of Double Cancer of Signet-...</td>\n",
       "      <td>Signet-ring cell/histiocytoid carcinoma (SRCHC...</td>\n",
       "      <td>ThyroidCancer</td>\n",
       "      <td>[signet-ring, cell/histiocytoid, carcinoma, (,...</td>\n",
       "      <td>[signet-ring, cell/histiocytoid, carcinoma, sr...</td>\n",
       "      <td>signet-ring cell/histiocytoid carcinoma srchc ...</td>\n",
       "    </tr>\n",
       "    <tr>\n",
       "      <th>...</th>\n",
       "      <td>...</td>\n",
       "      <td>...</td>\n",
       "      <td>...</td>\n",
       "      <td>...</td>\n",
       "      <td>...</td>\n",
       "      <td>...</td>\n",
       "      <td>...</td>\n",
       "      <td>...</td>\n",
       "    </tr>\n",
       "    <tr>\n",
       "      <th>2558</th>\n",
       "      <td>2559</td>\n",
       "      <td>32119321</td>\n",
       "      <td>StatPearls</td>\n",
       "      <td>Schistosomiasis is a parasitic disease histori...</td>\n",
       "      <td>BladderCancer</td>\n",
       "      <td>[schistosomiasis, is, a, parasitic, disease, h...</td>\n",
       "      <td>[schistosomiasis, parasitic, disease, historic...</td>\n",
       "      <td>schistosomiasis parasitic disease historically...</td>\n",
       "    </tr>\n",
       "    <tr>\n",
       "      <th>2559</th>\n",
       "      <td>2560</td>\n",
       "      <td>30725608</td>\n",
       "      <td>StatPearls</td>\n",
       "      <td>Bladder carcinoma (BC) is the most common neop...</td>\n",
       "      <td>BladderCancer</td>\n",
       "      <td>[bladder, carcinoma, (, bc, ), is, the, most, ...</td>\n",
       "      <td>[bladder, carcinoma, common, neoplasm, urinary...</td>\n",
       "      <td>bladder carcinoma common neoplasm urinary syst...</td>\n",
       "    </tr>\n",
       "    <tr>\n",
       "      <th>2560</th>\n",
       "      <td>2561</td>\n",
       "      <td>30285380</td>\n",
       "      <td>StatPearls</td>\n",
       "      <td>Mesotheliomas represent a proliferative neopla...</td>\n",
       "      <td>BladderCancer</td>\n",
       "      <td>[mesotheliomas, represent, a, proliferative, n...</td>\n",
       "      <td>[mesothelioma, represent, proliferative, neopl...</td>\n",
       "      <td>mesothelioma represent proliferative neoplasm ...</td>\n",
       "    </tr>\n",
       "    <tr>\n",
       "      <th>2561</th>\n",
       "      <td>2562</td>\n",
       "      <td>29939563</td>\n",
       "      <td>StatPearls</td>\n",
       "      <td>Lambl excrescences, a histological term descri...</td>\n",
       "      <td>BladderCancer</td>\n",
       "      <td>[lambl, excrescences, ,, a, histological, term...</td>\n",
       "      <td>[lambl, excrescence, histological, term, descr...</td>\n",
       "      <td>lambl excrescence histological term describe r...</td>\n",
       "    </tr>\n",
       "    <tr>\n",
       "      <th>2562</th>\n",
       "      <td>2563</td>\n",
       "      <td>29494060</td>\n",
       "      <td>StatPearls</td>\n",
       "      <td>Every urologist seems to have his own unique a...</td>\n",
       "      <td>BladderCancer</td>\n",
       "      <td>[every, urologist, seems, to, have, his, own, ...</td>\n",
       "      <td>[every, urologist, seems, unique, personal, pr...</td>\n",
       "      <td>every urologist seem unique personal procedure...</td>\n",
       "    </tr>\n",
       "  </tbody>\n",
       "</table>\n",
       "<p>383914 rows × 8 columns</p>\n",
       "</div>"
      ],
      "text/plain": [
       "      index  pubmedId                                              title  \\\n",
       "0         1  35751867  Fumarate hydratase is a novel gene for familia...   \n",
       "1         2  35751777  Levothyroxine-induced serum free thyroxine res...   \n",
       "2         3  35748311  Persistent post-thyroidectomy hypoparathyroidi...   \n",
       "3         4  35748101  BRAF V600E protect from cell death via inhibit...   \n",
       "4         5  35747011  Genetic Panel Test of Double Cancer of Signet-...   \n",
       "...     ...       ...                                                ...   \n",
       "2558   2559  32119321                                         StatPearls   \n",
       "2559   2560  30725608                                         StatPearls   \n",
       "2560   2561  30285380                                         StatPearls   \n",
       "2561   2562  29939563                                         StatPearls   \n",
       "2562   2563  29494060                                         StatPearls   \n",
       "\n",
       "                                               abstract          class  \\\n",
       "0     the majority of cases of epithelial cell-deriv...  ThyroidCancer   \n",
       "1     Patients undergoing thyroidectomy for differen...  ThyroidCancer   \n",
       "2     The reported incidence of persistent hypoparat...  ThyroidCancer   \n",
       "3     BRAF T1799A mutation is the most common geneti...  ThyroidCancer   \n",
       "4     Signet-ring cell/histiocytoid carcinoma (SRCHC...  ThyroidCancer   \n",
       "...                                                 ...            ...   \n",
       "2558  Schistosomiasis is a parasitic disease histori...  BladderCancer   \n",
       "2559  Bladder carcinoma (BC) is the most common neop...  BladderCancer   \n",
       "2560  Mesotheliomas represent a proliferative neopla...  BladderCancer   \n",
       "2561  Lambl excrescences, a histological term descri...  BladderCancer   \n",
       "2562  Every urologist seems to have his own unique a...  BladderCancer   \n",
       "\n",
       "                                                 tokens  \\\n",
       "0     [the, majority, of, cases, of, epithelial, cel...   \n",
       "1     [patients, undergoing, thyroidectomy, for, dif...   \n",
       "2     [the, reported, incidence, of, persistent, hyp...   \n",
       "3     [braf, t1799a, mutation, is, the, most, common...   \n",
       "4     [signet-ring, cell/histiocytoid, carcinoma, (,...   \n",
       "...                                                 ...   \n",
       "2558  [schistosomiasis, is, a, parasitic, disease, h...   \n",
       "2559  [bladder, carcinoma, (, bc, ), is, the, most, ...   \n",
       "2560  [mesotheliomas, represent, a, proliferative, n...   \n",
       "2561  [lambl, excrescences, ,, a, histological, term...   \n",
       "2562  [every, urologist, seems, to, have, his, own, ...   \n",
       "\n",
       "                                      lemmatized_tokens  \\\n",
       "0     [majority, case, epithelial, cell-derived, thy...   \n",
       "1     [patient, undergo, thyroidectomy, differentiat...   \n",
       "2     [report, incidence, persistent, hypoparathyroi...   \n",
       "3     [braf, t1799a, mutation, common, genetic, vari...   \n",
       "4     [signet-ring, cell/histiocytoid, carcinoma, sr...   \n",
       "...                                                 ...   \n",
       "2558  [schistosomiasis, parasitic, disease, historic...   \n",
       "2559  [bladder, carcinoma, common, neoplasm, urinary...   \n",
       "2560  [mesothelioma, represent, proliferative, neopl...   \n",
       "2561  [lambl, excrescence, histological, term, descr...   \n",
       "2562  [every, urologist, seems, unique, personal, pr...   \n",
       "\n",
       "                                  lemmatized_tokens_str  \n",
       "0     majority case epithelial cell-derived thyroid ...  \n",
       "1     patient undergo thyroidectomy differentiate th...  \n",
       "2     report incidence persistent hypoparathyroidism...  \n",
       "3     braf t1799a mutation common genetic variation ...  \n",
       "4     signet-ring cell/histiocytoid carcinoma srchc ...  \n",
       "...                                                 ...  \n",
       "2558  schistosomiasis parasitic disease historically...  \n",
       "2559  bladder carcinoma common neoplasm urinary syst...  \n",
       "2560  mesothelioma represent proliferative neoplasm ...  \n",
       "2561  lambl excrescence histological term describe r...  \n",
       "2562  every urologist seem unique personal procedure...  \n",
       "\n",
       "[383914 rows x 8 columns]"
      ]
     },
     "execution_count": 9,
     "metadata": {},
     "output_type": "execute_result"
    }
   ],
   "source": [
    "All_DFs"
   ]
  },
  {
   "cell_type": "code",
   "execution_count": 10,
   "id": "59d59c4c",
   "metadata": {},
   "outputs": [
    {
     "data": {
      "text/plain": [
       "index                      0\n",
       "pubmedId                   0\n",
       "title                    449\n",
       "abstract                   0\n",
       "class                      0\n",
       "tokens                     0\n",
       "lemmatized_tokens          0\n",
       "lemmatized_tokens_str      0\n",
       "dtype: int64"
      ]
     },
     "execution_count": 10,
     "metadata": {},
     "output_type": "execute_result"
    }
   ],
   "source": [
    "All_DFs.isnull().sum()"
   ]
  },
  {
   "cell_type": "code",
   "execution_count": 11,
   "id": "e714e08f",
   "metadata": {},
   "outputs": [],
   "source": [
    "All_DFs = All_DFs.fillna('')"
   ]
  },
  {
   "cell_type": "code",
   "execution_count": 12,
   "id": "4aa6ed77",
   "metadata": {},
   "outputs": [
    {
     "data": {
      "text/plain": [
       "index                    0\n",
       "pubmedId                 0\n",
       "title                    0\n",
       "abstract                 0\n",
       "class                    0\n",
       "tokens                   0\n",
       "lemmatized_tokens        0\n",
       "lemmatized_tokens_str    0\n",
       "dtype: int64"
      ]
     },
     "execution_count": 12,
     "metadata": {},
     "output_type": "execute_result"
    }
   ],
   "source": [
    "All_DFs.isnull().sum()"
   ]
  },
  {
   "cell_type": "code",
   "execution_count": 13,
   "id": "886f979e",
   "metadata": {},
   "outputs": [],
   "source": [
    "from sklearn.feature_extraction.text import TfidfVectorizer\n",
    "\n",
    "X = All_DFs[\"lemmatized_tokens_str\"]\n",
    "y = All_DFs[\"class\"]"
   ]
  },
  {
   "cell_type": "code",
   "execution_count": 14,
   "id": "3672c979",
   "metadata": {},
   "outputs": [
    {
     "data": {
      "text/plain": [
       "0       majority case epithelial cell-derived thyroid ...\n",
       "1       patient undergo thyroidectomy differentiate th...\n",
       "2       report incidence persistent hypoparathyroidism...\n",
       "3       braf t1799a mutation common genetic variation ...\n",
       "4       signet-ring cell/histiocytoid carcinoma srchc ...\n",
       "                              ...                        \n",
       "2558    schistosomiasis parasitic disease historically...\n",
       "2559    bladder carcinoma common neoplasm urinary syst...\n",
       "2560    mesothelioma represent proliferative neoplasm ...\n",
       "2561    lambl excrescence histological term describe r...\n",
       "2562    every urologist seem unique personal procedure...\n",
       "Name: lemmatized_tokens_str, Length: 383914, dtype: object"
      ]
     },
     "execution_count": 14,
     "metadata": {},
     "output_type": "execute_result"
    }
   ],
   "source": [
    "X"
   ]
  },
  {
   "cell_type": "code",
   "execution_count": 15,
   "id": "409e0839",
   "metadata": {
    "scrolled": true
   },
   "outputs": [
    {
     "data": {
      "text/plain": [
       "0       ThyroidCancer\n",
       "1       ThyroidCancer\n",
       "2       ThyroidCancer\n",
       "3       ThyroidCancer\n",
       "4       ThyroidCancer\n",
       "            ...      \n",
       "2558    BladderCancer\n",
       "2559    BladderCancer\n",
       "2560    BladderCancer\n",
       "2561    BladderCancer\n",
       "2562    BladderCancer\n",
       "Name: class, Length: 383914, dtype: object"
      ]
     },
     "execution_count": 15,
     "metadata": {},
     "output_type": "execute_result"
    }
   ],
   "source": [
    "y"
   ]
  },
  {
   "cell_type": "code",
   "execution_count": 16,
   "id": "9dfcf53e",
   "metadata": {},
   "outputs": [
    {
     "data": {
      "text/plain": [
       "TfidfVectorizer()"
      ]
     },
     "execution_count": 16,
     "metadata": {},
     "output_type": "execute_result"
    }
   ],
   "source": [
    "vectorizer = TfidfVectorizer() #N gram can be applied here, it takes too much on dataset\n",
    "vectorizer.fit(X)\n"
   ]
  },
  {
   "cell_type": "code",
   "execution_count": 17,
   "id": "156edae9",
   "metadata": {},
   "outputs": [],
   "source": [
    "X = vectorizer.transform(X)"
   ]
  },
  {
   "cell_type": "code",
   "execution_count": 18,
   "id": "3e1dfcae",
   "metadata": {
    "scrolled": true
   },
   "outputs": [
    {
     "data": {
      "text/plain": [
       "(383914, 260559)"
      ]
     },
     "execution_count": 18,
     "metadata": {},
     "output_type": "execute_result"
    }
   ],
   "source": [
    "X.shape"
   ]
  },
  {
   "cell_type": "markdown",
   "id": "961066bb",
   "metadata": {},
   "source": [
    "Machine Learning Models"
   ]
  },
  {
   "cell_type": "code",
   "execution_count": 19,
   "id": "97c27b71",
   "metadata": {},
   "outputs": [],
   "source": [
    "from sklearn.model_selection import train_test_split\n",
    "from sklearn import model_selection\n",
    "from sklearn import linear_model\n",
    "from sklearn import metrics\n",
    "\n",
    "X_train, X_test, y_train, y_test = train_test_split(X, y,\n",
    "    test_size=0.2, stratify=y, shuffle = True, random_state = 0)\n",
    "\n",
    "X_train, X_val, y_train, y_val = train_test_split(X_train, y_train, \n",
    "    test_size=0.125,stratify=y_train, random_state= 0)"
   ]
  },
  {
   "cell_type": "code",
   "execution_count": 20,
   "id": "69312263",
   "metadata": {},
   "outputs": [
    {
     "data": {
      "text/plain": [
       "\"\\nfrom sklearn.ensemble import RandomForestClassifier\\nclassifier = RandomForestClassifier(n_estimators = 10, criterion = 'entropy', random_state = 1)\\nclassifier.fit(X_train, y_train)\\n\\nprint(metrics.classification_report(y_test, classifier.predict(X_test)))\\n\""
      ]
     },
     "execution_count": 20,
     "metadata": {},
     "output_type": "execute_result"
    }
   ],
   "source": [
    "\"\"\"\n",
    "from sklearn.ensemble import RandomForestClassifier\n",
    "classifier = RandomForestClassifier(n_estimators = 10, criterion = 'entropy', random_state = 1)\n",
    "classifier.fit(X_train, y_train)\n",
    "\n",
    "print(metrics.classification_report(y_test, classifier.predict(X_test)))\n",
    "\"\"\""
   ]
  },
  {
   "cell_type": "code",
   "execution_count": 21,
   "id": "24a05ca1",
   "metadata": {},
   "outputs": [
    {
     "data": {
      "text/plain": [
       "array([1, 2, 2, ..., 1, 1, 2])"
      ]
     },
     "execution_count": 21,
     "metadata": {},
     "output_type": "execute_result"
    }
   ],
   "source": [
    "from sklearn.preprocessing import LabelEncoder\n",
    "le = LabelEncoder()\n",
    "y_train_coded = le.fit_transform(y_train)\n",
    "y_test_coded = le.fit_transform(y_test)\n",
    "y_val_coded = le.fit_transform(y_val)\n",
    "y_train_coded"
   ]
  },
  {
   "cell_type": "code",
   "execution_count": 26,
   "id": "717ac6f5",
   "metadata": {},
   "outputs": [
    {
     "name": "stdout",
     "output_type": "stream",
     "text": [
      "0:\tlearn: 1.2327366\ttotal: 1m 55s\tremaining: 1h 53m 5s\n",
      "1:\tlearn: 1.1090280\ttotal: 3m 48s\tremaining: 1h 50m 25s\n",
      "2:\tlearn: 1.0081126\ttotal: 5m 43s\tremaining: 1h 48m 38s\n",
      "3:\tlearn: 0.9223577\ttotal: 7m 32s\tremaining: 1h 45m 41s\n",
      "4:\tlearn: 0.8492548\ttotal: 9m 21s\tremaining: 1h 43m 1s\n",
      "5:\tlearn: 0.7856925\ttotal: 11m 8s\tremaining: 1h 40m 20s\n",
      "6:\tlearn: 0.7302952\ttotal: 12m 54s\tremaining: 1h 37m 45s\n",
      "7:\tlearn: 0.6813709\ttotal: 15m\tremaining: 1h 37m 31s\n",
      "8:\tlearn: 0.6387903\ttotal: 16m 57s\tremaining: 1h 36m 3s\n",
      "9:\tlearn: 0.5988360\ttotal: 18m 46s\tremaining: 1h 33m 50s\n",
      "10:\tlearn: 0.5628114\ttotal: 20m 38s\tremaining: 1h 31m 56s\n",
      "11:\tlearn: 0.5305450\ttotal: 22m 32s\tremaining: 1h 30m 8s\n",
      "12:\tlearn: 0.5009354\ttotal: 24m 24s\tremaining: 1h 28m 15s\n",
      "13:\tlearn: 0.4739933\ttotal: 26m 23s\tremaining: 1h 26m 44s\n",
      "14:\tlearn: 0.4496387\ttotal: 28m 21s\tremaining: 1h 25m 3s\n",
      "15:\tlearn: 0.4266169\ttotal: 30m 19s\tremaining: 1h 23m 22s\n",
      "16:\tlearn: 0.4058213\ttotal: 32m 16s\tremaining: 1h 21m 38s\n",
      "17:\tlearn: 0.3867831\ttotal: 34m 11s\tremaining: 1h 19m 45s\n",
      "18:\tlearn: 0.3694185\ttotal: 36m 13s\tremaining: 1h 18m 10s\n",
      "19:\tlearn: 0.3532506\ttotal: 38m 6s\tremaining: 1h 16m 13s\n",
      "20:\tlearn: 0.3383396\ttotal: 40m\tremaining: 1h 14m 17s\n",
      "21:\tlearn: 0.3244274\ttotal: 41m 54s\tremaining: 1h 12m 23s\n",
      "22:\tlearn: 0.3114619\ttotal: 43m 47s\tremaining: 1h 10m 26s\n",
      "23:\tlearn: 0.2995238\ttotal: 45m 41s\tremaining: 1h 8m 31s\n",
      "24:\tlearn: 0.2883167\ttotal: 47m 35s\tremaining: 1h 6m 37s\n",
      "25:\tlearn: 0.2782268\ttotal: 49m 29s\tremaining: 1h 4m 43s\n",
      "26:\tlearn: 0.2688857\ttotal: 51m 23s\tremaining: 1h 2m 48s\n",
      "27:\tlearn: 0.2599308\ttotal: 53m 16s\tremaining: 1h 53s\n",
      "28:\tlearn: 0.2515255\ttotal: 55m 13s\tremaining: 59m 2s\n",
      "29:\tlearn: 0.2438328\ttotal: 57m 8s\tremaining: 57m 8s\n",
      "30:\tlearn: 0.2366411\ttotal: 59m 2s\tremaining: 55m 13s\n",
      "31:\tlearn: 0.2297662\ttotal: 1h 57s\tremaining: 53m 20s\n",
      "32:\tlearn: 0.2232524\ttotal: 1h 2m 55s\tremaining: 51m 29s\n",
      "33:\tlearn: 0.2171275\ttotal: 1h 4m 51s\tremaining: 49m 35s\n",
      "34:\tlearn: 0.2115784\ttotal: 1h 6m 48s\tremaining: 47m 43s\n",
      "35:\tlearn: 0.2062644\ttotal: 1h 8m 38s\tremaining: 45m 45s\n",
      "36:\tlearn: 0.2013982\ttotal: 1h 10m 24s\tremaining: 43m 46s\n",
      "37:\tlearn: 0.1964203\ttotal: 1h 12m 11s\tremaining: 41m 47s\n",
      "38:\tlearn: 0.1920195\ttotal: 1h 13m 59s\tremaining: 39m 50s\n",
      "39:\tlearn: 0.1879068\ttotal: 1h 15m 45s\tremaining: 37m 52s\n",
      "40:\tlearn: 0.1837767\ttotal: 1h 17m 32s\tremaining: 35m 55s\n",
      "41:\tlearn: 0.1804314\ttotal: 1h 19m 17s\tremaining: 33m 58s\n",
      "42:\tlearn: 0.1768599\ttotal: 1h 21m 4s\tremaining: 32m 2s\n",
      "43:\tlearn: 0.1735293\ttotal: 1h 22m 50s\tremaining: 30m 7s\n",
      "44:\tlearn: 0.1702320\ttotal: 1h 24m 37s\tremaining: 28m 12s\n",
      "45:\tlearn: 0.1673727\ttotal: 1h 26m 22s\tremaining: 26m 17s\n",
      "46:\tlearn: 0.1649101\ttotal: 1h 28m 5s\tremaining: 24m 21s\n",
      "47:\tlearn: 0.1626711\ttotal: 1h 29m 47s\tremaining: 22m 26s\n",
      "48:\tlearn: 0.1603585\ttotal: 1h 31m 29s\tremaining: 20m 32s\n",
      "49:\tlearn: 0.1582917\ttotal: 1h 33m 10s\tremaining: 18m 38s\n",
      "50:\tlearn: 0.1559704\ttotal: 1h 34m 51s\tremaining: 16m 44s\n",
      "51:\tlearn: 0.1539721\ttotal: 1h 36m 33s\tremaining: 14m 51s\n",
      "52:\tlearn: 0.1520956\ttotal: 1h 38m 14s\tremaining: 12m 58s\n",
      "53:\tlearn: 0.1504877\ttotal: 1h 39m 56s\tremaining: 11m 6s\n",
      "54:\tlearn: 0.1487907\ttotal: 1h 41m 38s\tremaining: 9m 14s\n",
      "55:\tlearn: 0.1471557\ttotal: 1h 43m 20s\tremaining: 7m 22s\n",
      "56:\tlearn: 0.1457336\ttotal: 1h 45m 2s\tremaining: 5m 31s\n",
      "57:\tlearn: 0.1443836\ttotal: 1h 46m 29s\tremaining: 3m 40s\n",
      "58:\tlearn: 0.1431283\ttotal: 1h 48m 2s\tremaining: 1m 49s\n",
      "59:\tlearn: 0.1416868\ttotal: 1h 49m 31s\tremaining: 0us\n",
      "              precision    recall  f1-score   support\n",
      "\n",
      "           0       1.00      0.94      0.97      9235\n",
      "           1       0.95      0.99      0.97     45311\n",
      "           2       0.96      0.90      0.93     12288\n",
      "           3       1.00      0.94      0.97      9949\n",
      "\n",
      "    accuracy                           0.96     76783\n",
      "   macro avg       0.98      0.94      0.96     76783\n",
      "weighted avg       0.96      0.96      0.96     76783\n",
      "\n"
     ]
    }
   ],
   "source": [
    "from catboost import CatBoostClassifier\n",
    "modelCat = CatBoostClassifier(iterations=60,\n",
    "                              learning_rate=0.06,\n",
    "                              depth=9,loss_function='MultiClass') \n",
    "modelCat.fit(X_train, y_train_coded)\n",
    "\n",
    "print(metrics.classification_report(y_test_coded, modelCat.predict(X_test)))"
   ]
  },
  {
   "cell_type": "code",
   "execution_count": 32,
   "id": "79737bea",
   "metadata": {},
   "outputs": [
    {
     "name": "stdout",
     "output_type": "stream",
     "text": [
      "                    precision    recall  f1-score   support\n",
      "\n",
      "     BladderCancer       0.99      0.94      0.96      9235\n",
      "          Leukemia       0.93      0.99      0.96     45311\n",
      "NonHodgkinLymphoma       0.97      0.81      0.89     12288\n",
      "     ThyroidCancer       0.99      0.93      0.96      9949\n",
      "\n",
      "          accuracy                           0.95     76783\n",
      "         macro avg       0.97      0.92      0.94     76783\n",
      "      weighted avg       0.95      0.95      0.95     76783\n",
      "\n"
     ]
    }
   ],
   "source": [
    "from sklearn.ensemble import RandomForestClassifier\n",
    "classifier = RandomForestClassifier(n_estimators=150, criterion = 'gini', random_state = 1)\n",
    "classifier.fit(X_train, y_train)\n",
    "\n",
    "print(metrics.classification_report(y_test, classifier.predict(X_test)))"
   ]
  }
 ],
 "metadata": {
  "kernelspec": {
   "display_name": "Python 3 (ipykernel)",
   "language": "python",
   "name": "python3"
  },
  "language_info": {
   "codemirror_mode": {
    "name": "ipython",
    "version": 3
   },
   "file_extension": ".py",
   "mimetype": "text/x-python",
   "name": "python",
   "nbconvert_exporter": "python",
   "pygments_lexer": "ipython3",
   "version": "3.9.12"
  }
 },
 "nbformat": 4,
 "nbformat_minor": 5
}
